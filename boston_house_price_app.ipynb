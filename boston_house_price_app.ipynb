{
 "cells": [
  {
   "cell_type": "code",
   "execution_count": 1,
   "metadata": {},
   "outputs": [],
   "source": [
    "import streamlit as st\n",
    "import joblib\n",
    "import pandas as pd\n",
    "import numpy as np\n",
    "from sklearn.metrics import mean_squared_error\n",
    "\n",
    "# Load the saved model\n",
    "loaded_model = joblib.load('linear_regression_model.pkl')\n",
    "\n",
    "# Define the features for input\n",
    "# CRIM = per capita crime rate by town\n",
    "# RM = average number of rooms per dwelling\n",
    "# AGE = proportion of owner-occupied units built prior to 1940\n",
    "# MEDV = Median value of owner-occupied homes in $1000's\n",
    "features = ['CRIM', 'RM', 'AGE']\n",
    "\n",
    "# Define the Streamlit app\n",
    "st.title(\"Boston House Price Prediction App\")\n",
    "\n",
    "# Add input fields for user to enter data\n",
    "crim = st.slider(\"Per capita crime rate by town\", min_value=0, max_value=100, value=5)\n",
    "rm = st.slider(\"Average number of rooms per dwelling\", min_value=0, max_value=10, value=2)\n",
    "age = st.slider(\"Number of Age\", min_value=0, max_value=120, value=15)\n",
    "\n",
    "# Create a DataFrame with the user input\n",
    "example_data = pd.DataFrame([[crim, rm, age]], columns=features)\n",
    "\n",
    "# Make predictions\n",
    "predicted_charges = loaded_model.predict(example_data)\n",
    "\n",
    "# Display the prediction\n",
    "st.write(f\"Predicted Charges: ${predicted_charges[0]:.2f}\")\n",
    "\n",
    "# Add calculation of Mean Squared Error (MSE) and Root Mean Squared Error (RMSE)\n",
    "actual_charges = 10000 # Replace with the actual charges if available\n",
    "if actual_charges:\n",
    "    mse = mean_squared_error([actual_charges], [predicted_charges[0]])\n",
    "    rmse = np.sqrt(mse)\n",
    "    st.write(f\"MSE: {mse:.2f}\")\n",
    "    st.write(f\"RMSE: {rmse:.2f}\")\n",
    "else:\n",
    "    st.write(\"Actual charges not provided. Unable to calculate MSE and RMSE.\")\n"
   ]
  }
 ],
 "metadata": {
  "kernelspec": {
   "display_name": "Python 3",
   "language": "python",
   "name": "python3"
  },
  "language_info": {
   "codemirror_mode": {
    "name": "ipython",
    "version": 3
   },
   "file_extension": ".py",
   "mimetype": "text/x-python",
   "name": "python",
   "nbconvert_exporter": "python",
   "pygments_lexer": "ipython3",
   "version": "3.11.4"
  }
 },
 "nbformat": 4,
 "nbformat_minor": 2
}
